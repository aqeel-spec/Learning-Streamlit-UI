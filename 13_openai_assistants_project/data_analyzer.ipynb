{
 "cells": [
  {
   "cell_type": "code",
   "execution_count": 5,
   "metadata": {},
   "outputs": [],
   "source": [
    "import os\n",
    "import json\n",
    "import requests\n",
    "from openai import OpenAI\n",
    "import time\n",
    "from dotenv import load_dotenv, find_dotenv\n",
    "\n",
    "# API keys are stored in Google Colab's Secret Manager\n",
    "load_dotenv(find_dotenv())\n",
    "FMP_API_KEY: str = os.environ.get(\"FMP_API_KEY\")\n",
    "OPENAI_API_KEY: str = os.environ.get(\"OPENAI_API_KEY\")\n",
    "# print(\"OpenAI API Key ===>\",OPENAI_API_KEY)\n",
    "# print(\"FMP API Key ===>\",FMP_API_KEY)\n",
    "\n"
   ]
  },
  {
   "cell_type": "code",
   "execution_count": 6,
   "metadata": {},
   "outputs": [],
   "source": [
    "from openai import OpenAI\n",
    "client : OpenAI = OpenAI()"
   ]
  },
  {
   "cell_type": "markdown",
   "metadata": {},
   "source": [
    "# Step 1: Defining Financial Functions\n",
    "\n"
   ]
  },
  {
   "cell_type": "code",
   "execution_count": 19,
   "metadata": {},
   "outputs": [],
   "source": [
    "# Define financial statement functions\n",
    "def get_income_statement(ticker : str) -> str:\n",
    "    url = f\"https://financialmodelingprep.com/api/v3/income-statement/{ticker}?period=annual&apikey={FMP_API_KEY}\"\n",
    "    response = requests.get(url)\n",
    "    return json.dumps(response.json())\n",
    "\n",
    "def get_balance_sheet(ticker: str) -> str:\n",
    "    url = f\"https://financialmodelingprep.com/api/v3/balance-sheet-statement/{ticker}?period=annual&apikey={FMP_API_KEY}\"\n",
    "    response = requests.get(url)\n",
    "    return json.dumps(response.json())\n",
    "\n",
    "\n",
    "def get_cash_flow_statement(ticker: str) -> str:\n",
    "    url = f\"https://financialmodelingprep.com/api/v3/cash-flow-statement/{ticker}?period=annual&apikey={FMP_API_KEY}\"\n",
    "    response = requests.get(url)\n",
    "    return json.dumps(response.json())\n",
    "\n",
    "\n",
    "def get_key_metrics(ticker: str) -> str:\n",
    "    url = f\"https://financialmodelingprep.com/api/v3/key-metrics/{ticker}?period=annual&apikey={FMP_API_KEY}\"\n",
    "    response = requests.get(url)\n",
    "    return json.dumps(response.json())\n",
    "\n",
    "\n",
    "def get_financial_ratios(ticker: str) -> str:\n",
    "    url = f\"https://financialmodelingprep.com/api/v3/ratios-ttm/{ticker}?period=annual&apikey={FMP_API_KEY}\"\n",
    "    response = requests.get(url)\n",
    "    return json.dumps(response.json())\n",
    "\n",
    "\n",
    "def get_financial_growth(ticker: str) -> str:\n",
    "    url = f\"https://financialmodelingprep.com/api/v3/financial-growth/{ticker}?period=annual&apikey={FMP_API_KEY}\"\n",
    "    response = requests.get(url)\n",
    "    return json.dumps(response.json())\n"
   ]
  },
  {
   "cell_type": "markdown",
   "metadata": {},
   "source": [
    "# Step 2: Map available functions"
   ]
  },
  {
   "cell_type": "code",
   "execution_count": 20,
   "metadata": {},
   "outputs": [
    {
     "data": {
      "text/plain": [
       "{'get_income_statement': <function __main__.get_income_statement(ticker: str) -> str>,\n",
       " 'get_balance_sheet': <function __main__.get_balance_sheet(ticker: str) -> str>,\n",
       " 'get_cash_flow_statement': <function __main__.get_cash_flow_statement(ticker: str) -> str>,\n",
       " 'get_key_metrics': <function __main__.get_key_metrics(ticker: str) -> str>,\n",
       " 'get_financial_ratios': <function __main__.get_cash_flow_statement(ticker: str) -> str>,\n",
       " 'get_financial_growth': <function __main__.get_financial_ratios(ticker: str) -> str>}"
      ]
     },
     "metadata": {},
     "output_type": "display_data"
    }
   ],
   "source": [
    "# Map available functions\n",
    "available_functions = {\n",
    "    \"get_income_statement\": get_income_statement,\n",
    "    \"get_balance_sheet\": get_balance_sheet,\n",
    "    \"get_cash_flow_statement\": get_cash_flow_statement,\n",
    "    \"get_key_metrics\": get_key_metrics,\n",
    "    \"get_financial_ratios\": get_cash_flow_statement,\n",
    "    \"get_financial_growth\": get_financial_ratios\n",
    "}\n",
    "display(dict(available_functions))"
   ]
  },
  {
   "cell_type": "markdown",
   "metadata": {},
   "source": [
    "# Step 3: Creating the Assistant"
   ]
  },
  {
   "cell_type": "code",
   "execution_count": 21,
   "metadata": {},
   "outputs": [],
   "source": [
    "function_schema = [\n",
    "    {\"type\": \"code_interpreter\"},\n",
    "    {\n",
    "        {\n",
    "            \"type\": \"function\",\n",
    "            \"function\": {\n",
    "                \"name\": \"get_income_statement\",\n",
    "                \"parameters\": {\n",
    "                    \"type\": \"object\",\n",
    "                    \"properties\": {\n",
    "                        \"ticker\": {\"type\": \"string\"},\n",
    "                    },\n",
    "                    \"required\": [\"ticker\"],\n",
    "                },\n",
    "            },\n",
    "        },\n",
    "        {\n",
    "            \"type\": \"function\",\n",
    "            \"function\": {\n",
    "                \"name\": \"get_balance_sheet\",\n",
    "                \"parameters\": {\n",
    "                    \"type\": \"object\",\n",
    "                    \"properties\": {\n",
    "                        \"ticker\": {\"type\": \"string\"},\n",
    "                    },\n",
    "                    \"required\": [\"ticker\"],\n",
    "                }\n",
    "            }\n",
    "        },\n",
    "        {\n",
    "            \"type\": \"function\",\n",
    "            \"function\": {\n",
    "                \"name\": \"get_cash_flow_statement\",\n",
    "                \"parameters\": {\n",
    "                    \"type\": \"object\",\n",
    "                    \"properties\": {\n",
    "                        \"ticker\": {\"type\": \"string\"},\n",
    "                    },\n",
    "                    \"required\": [\"ticker\"],\n",
    "                }\n",
    "            }\n",
    "        },\n",
    "        {\n",
    "            \"type\": \"function\",\n",
    "            \"function\": {\n",
    "                \"name\": \"get_key_metrics\",\n",
    "                \"parameters\": {\n",
    "                    \"type\": \"object\",\n",
    "                    \"properties\": {\n",
    "                        \"ticker\": {\"type\": \"string\"},\n",
    "                    },\n",
    "                    \"required\": [\"ticker\"],\n",
    "                },\n",
    "            },\n",
    "        },\n",
    "        {\n",
    "            \"type\": \"function\",\n",
    "            \"function\": {\n",
    "                \"name\": \"get_financial_ratios\",\n",
    "                \"parameters\": {\n",
    "                    \"type\": \"object\",\n",
    "                    \"properties\": {\n",
    "                        \"ticker\": {\"type\": \"string\"},\n",
    "                    },\n",
    "                    \"required\": [\"ticker\"],\n",
    "                },\n",
    "            },\n",
    "        },\n",
    "        {\n",
    "            \"type\": \"function\",\n",
    "            \"function\": {\n",
    "                \"name\": \"get_financial_growth\",\n",
    "                \"parameters\": {\n",
    "                    \"type\": \"object\",\n",
    "                    \"properties\": {\n",
    "                        \"ticker\": {\"type\": \"string\"},\n",
    "                    },\n",
    "                    \"required\": [\"ticker\"],\n",
    "                },\n",
    "            },\n",
    "        },\n",
    "    },\n",
    "]"
   ]
  },
  {
   "cell_type": "code",
   "execution_count": 22,
   "metadata": {},
   "outputs": [
    {
     "data": {
      "text/plain": [
       "{'id': 'asst_Bu0sKf4zsGiNBS4wscEMbdct',\n",
       " 'created_at': 1703589432,\n",
       " 'description': None,\n",
       " 'file_ids': [],\n",
       " 'instructions': 'Act as a financial advisor by accessing detailed financial data through the Financial Modeling Prep API. Your capabilities include providing an investement advise by analyzing key metrics, comprehensive financial statements, vital financial ratios, and tracking financial growth trends.',\n",
       " 'metadata': {},\n",
       " 'model': 'gpt-3.5-turbo-1106',\n",
       " 'name': 'Financial Advisor',\n",
       " 'object': 'assistant',\n",
       " 'tools': [ToolFunction(function=FunctionDefinition(name='get_income_statement', parameters={'type': 'object', 'properties': {'ticker': {'type': 'string'}}, 'required': ['ticker']}, description=None), type='function'),\n",
       "  ToolFunction(function=FunctionDefinition(name='get_balance_sheet', parameters={'type': 'object', 'properties': {'ticker': {'type': 'string'}}, 'required': ['ticker']}, description=None), type='function'),\n",
       "  ToolFunction(function=FunctionDefinition(name='get_cash_flow_statement', parameters={'type': 'object', 'properties': {'ticker': {'type': 'string'}}, 'required': ['ticker']}, description=None), type='function'),\n",
       "  ToolFunction(function=FunctionDefinition(name='get_key_metrics', parameters={'type': 'object', 'properties': {'ticker': {'type': 'string'}}, 'required': ['ticker']}, description=None), type='function'),\n",
       "  ToolFunction(function=FunctionDefinition(name='get_financial_ratios', parameters={'type': 'object', 'properties': {'ticker': {'type': 'string'}}, 'required': ['ticker']}, description=None), type='function'),\n",
       "  ToolFunction(function=FunctionDefinition(name='get_financial_growth', parameters={'type': 'object', 'properties': {'ticker': {'type': 'string'}}, 'required': ['ticker']}, description=None), type='function')]}"
      ]
     },
     "metadata": {},
     "output_type": "display_data"
    }
   ],
   "source": [
    "from openai.types.beta import Assistant\n",
    "\n",
    "assistant: Assistant = client.beta.assistants.create(\n",
    "    name=\"Financial Advisor\",\n",
    "    instructions=\"Act as a financial advisor by accessing detailed financial data through the Financial Modeling Prep API. Your capabilities include providing an investement advise by analyzing key metrics, comprehensive financial statements, vital financial ratios, and tracking financial growth trends.\",\n",
    "    model=\"gpt-3.5-turbo-1106\",\n",
    "    tools=function_schema\n",
    ")\n",
    "\n",
    "display(dict(assistant))"
   ]
  },
  {
   "cell_type": "markdown",
   "metadata": {},
   "source": [
    "# Step 4: Initiating a Thread"
   ]
  },
  {
   "cell_type": "code",
   "execution_count": 23,
   "metadata": {},
   "outputs": [
    {
     "data": {
      "text/plain": [
       "{'id': 'thread_H7ikU3QleXqjpffxnj0zpS2Y',\n",
       " 'created_at': 1703589434,\n",
       " 'metadata': {},\n",
       " 'object': 'thread'}"
      ]
     },
     "metadata": {},
     "output_type": "display_data"
    }
   ],
   "source": [
    "\n",
    "from openai.types.beta.thread import Thread\n",
    "\n",
    "thread: Thread = client.beta.threads.create()\n",
    "\n",
    "display(dict(thread))"
   ]
  },
  {
   "cell_type": "markdown",
   "metadata": {},
   "source": [
    "# Step 5: Adding Messages to the Thread"
   ]
  },
  {
   "cell_type": "code",
   "execution_count": 24,
   "metadata": {},
   "outputs": [
    {
     "data": {
      "text/plain": [
       "{'id': 'msg_8ShOBBwEqjAsZuAvVWn7dubm',\n",
       " 'assistant_id': None,\n",
       " 'content': [MessageContentText(text=Text(annotations=[], value='I have a lot of money to invest. Can you suggest if it is better to invest in Apple or Microsoft?'), type='text')],\n",
       " 'created_at': 1703589437,\n",
       " 'file_ids': [],\n",
       " 'metadata': {},\n",
       " 'object': 'thread.message',\n",
       " 'role': 'user',\n",
       " 'run_id': None,\n",
       " 'thread_id': 'thread_H7ikU3QleXqjpffxnj0zpS2Y'}"
      ]
     },
     "metadata": {},
     "output_type": "display_data"
    }
   ],
   "source": [
    "from openai.types.beta.threads.thread_message import ThreadMessage\n",
    "\n",
    "message : ThreadMessage = client.beta.threads.messages.create(\n",
    "    thread_id=thread.id,\n",
    "    role=\"user\",\n",
    "    content=\"I have a lot of money to invest. Can you suggest if it is better to invest in Apple or Microsoft?\",\n",
    ")\n",
    "\n",
    "display(dict(message))"
   ]
  },
  {
   "cell_type": "markdown",
   "metadata": {},
   "source": [
    "# Step 6: Running and Monitoring the Assistant\n",
    "\n",
    "## 6.1 Start a Run"
   ]
  },
  {
   "cell_type": "code",
   "execution_count": 33,
   "metadata": {},
   "outputs": [
    {
     "data": {
      "text/plain": [
       "{'id': 'run_jHxHhqHIfnx6vnZd4ApECelB',\n",
       " 'assistant_id': 'asst_Bu0sKf4zsGiNBS4wscEMbdct',\n",
       " 'cancelled_at': None,\n",
       " 'completed_at': None,\n",
       " 'created_at': 1703591289,\n",
       " 'expires_at': 1703591889,\n",
       " 'failed_at': None,\n",
       " 'file_ids': [],\n",
       " 'instructions': 'Act as a financial advisor by accessing detailed financial data through the Financial Modeling Prep API. Your capabilities include providing an investement advise by analyzing key metrics, comprehensive financial statements, vital financial ratios, and tracking financial growth trends.',\n",
       " 'last_error': None,\n",
       " 'metadata': {},\n",
       " 'model': 'gpt-3.5-turbo-1106',\n",
       " 'object': 'thread.run',\n",
       " 'required_action': None,\n",
       " 'started_at': None,\n",
       " 'status': 'queued',\n",
       " 'thread_id': 'thread_H7ikU3QleXqjpffxnj0zpS2Y',\n",
       " 'tools': [ToolAssistantToolsFunction(function=FunctionDefinition(name='get_income_statement', parameters={'type': 'object', 'properties': {'ticker': {'type': 'string'}}, 'required': ['ticker']}, description=None), type='function'),\n",
       "  ToolAssistantToolsFunction(function=FunctionDefinition(name='get_balance_sheet', parameters={'type': 'object', 'properties': {'ticker': {'type': 'string'}}, 'required': ['ticker']}, description=None), type='function'),\n",
       "  ToolAssistantToolsFunction(function=FunctionDefinition(name='get_cash_flow_statement', parameters={'type': 'object', 'properties': {'ticker': {'type': 'string'}}, 'required': ['ticker']}, description=None), type='function'),\n",
       "  ToolAssistantToolsFunction(function=FunctionDefinition(name='get_key_metrics', parameters={'type': 'object', 'properties': {'ticker': {'type': 'string'}}, 'required': ['ticker']}, description=None), type='function'),\n",
       "  ToolAssistantToolsFunction(function=FunctionDefinition(name='get_financial_ratios', parameters={'type': 'object', 'properties': {'ticker': {'type': 'string'}}, 'required': ['ticker']}, description=None), type='function'),\n",
       "  ToolAssistantToolsFunction(function=FunctionDefinition(name='get_financial_growth', parameters={'type': 'object', 'properties': {'ticker': {'type': 'string'}}, 'required': ['ticker']}, description=None), type='function')]}"
      ]
     },
     "metadata": {},
     "output_type": "display_data"
    }
   ],
   "source": [
    "from openai.types.beta.threads.run import Run\n",
    "\n",
    "run: Run = client.beta.threads.runs.create(\n",
    "    thread_id=thread.id, assistant_id=assistant.id\n",
    ")\n",
    "\n",
    "display(dict(run))"
   ]
  },
  {
   "cell_type": "markdown",
   "metadata": {},
   "source": [
    "## 6.2 Monitor and Manage the Run:"
   ]
  },
  {
   "cell_type": "code",
   "execution_count": 34,
   "metadata": {},
   "outputs": [
    {
     "name": "stdout",
     "output_type": "stream",
     "text": [
      "Run is in_progress. Waiting...\n",
      "Run is completed.\n"
     ]
    }
   ],
   "source": [
    "import time\n",
    "\n",
    "while True:\n",
    "    run = client.beta.threads.runs.retrieve(thread_id=thread.id, run_id=run.id)\n",
    "\n",
    "    if run.status == \"requires_action\":\n",
    "        tool_calls = run.required_action.submit_tool_outputs.tool_calls\n",
    "        tool_outputs = []\n",
    "\n",
    "        for tool_call in tool_calls:\n",
    "            function_name = tool_call.function.name\n",
    "            function_args = json.loads(tool_call.function.arguments)\n",
    "\n",
    "            if function_name in available_functions:\n",
    "                print(\"Calling \", function_name)\n",
    "                function_to_call = available_functions[function_name]\n",
    "                output = function_to_call(**function_args)\n",
    "                tool_outputs.append(\n",
    "                    {\n",
    "                        \"tool_call_id\": tool_call.id,\n",
    "                        \"output\": output,\n",
    "                    }\n",
    "                )\n",
    "        client.beta.threads.runs.submit_tool_outputs(\n",
    "            thread_id=thread.id, run_id=run.id, tool_outputs=tool_outputs\n",
    "        )\n",
    "    elif run.status == \"completed\":\n",
    "        response_messages = client.beta.threads.messages.list(thread_id=thread.id)\n",
    "        print(f\"Run is {run.status}.\")\n",
    "        break  # Exit the loop after processing the completed run\n",
    "\n",
    "    elif run.status == \"failed\":\n",
    "        print(\"Run failed.\")\n",
    "        break\n",
    "\n",
    "    elif run.status in [\"in_progress\", \"queued\"]:\n",
    "        print(f\"Run is {run.status}. Waiting...\")\n",
    "        time.sleep(10)  # Wait for 5 seconds before checking again\n",
    "\n",
    "    else:\n",
    "        print(f\"Unexpected status: {run.status}\")\n",
    "        break"
   ]
  },
  {
   "cell_type": "code",
   "execution_count": 35,
   "metadata": {},
   "outputs": [
    {
     "data": {
      "text/plain": [
       "{'id': 'run_jHxHhqHIfnx6vnZd4ApECelB',\n",
       " 'assistant_id': 'asst_Bu0sKf4zsGiNBS4wscEMbdct',\n",
       " 'cancelled_at': None,\n",
       " 'completed_at': 1703591296,\n",
       " 'created_at': 1703591289,\n",
       " 'expires_at': None,\n",
       " 'failed_at': None,\n",
       " 'file_ids': [],\n",
       " 'instructions': 'Act as a financial advisor by accessing detailed financial data through the Financial Modeling Prep API. Your capabilities include providing an investement advise by analyzing key metrics, comprehensive financial statements, vital financial ratios, and tracking financial growth trends.',\n",
       " 'last_error': None,\n",
       " 'metadata': {},\n",
       " 'model': 'gpt-3.5-turbo-1106',\n",
       " 'object': 'thread.run',\n",
       " 'required_action': None,\n",
       " 'started_at': 1703591289,\n",
       " 'status': 'completed',\n",
       " 'thread_id': 'thread_H7ikU3QleXqjpffxnj0zpS2Y',\n",
       " 'tools': [ToolAssistantToolsFunction(function=FunctionDefinition(name='get_income_statement', parameters={'type': 'object', 'properties': {'ticker': {'type': 'string'}}, 'required': ['ticker']}, description=None), type='function'),\n",
       "  ToolAssistantToolsFunction(function=FunctionDefinition(name='get_balance_sheet', parameters={'type': 'object', 'properties': {'ticker': {'type': 'string'}}, 'required': ['ticker']}, description=None), type='function'),\n",
       "  ToolAssistantToolsFunction(function=FunctionDefinition(name='get_cash_flow_statement', parameters={'type': 'object', 'properties': {'ticker': {'type': 'string'}}, 'required': ['ticker']}, description=None), type='function'),\n",
       "  ToolAssistantToolsFunction(function=FunctionDefinition(name='get_key_metrics', parameters={'type': 'object', 'properties': {'ticker': {'type': 'string'}}, 'required': ['ticker']}, description=None), type='function'),\n",
       "  ToolAssistantToolsFunction(function=FunctionDefinition(name='get_financial_ratios', parameters={'type': 'object', 'properties': {'ticker': {'type': 'string'}}, 'required': ['ticker']}, description=None), type='function'),\n",
       "  ToolAssistantToolsFunction(function=FunctionDefinition(name='get_financial_growth', parameters={'type': 'object', 'properties': {'ticker': {'type': 'string'}}, 'required': ['ticker']}, description=None), type='function')]}"
      ]
     },
     "metadata": {},
     "output_type": "display_data"
    }
   ],
   "source": [
    "display(dict(run))"
   ]
  },
  {
   "cell_type": "code",
   "execution_count": 37,
   "metadata": {},
   "outputs": [],
   "source": [
    "from PIL import Image\n",
    "from IPython.display import Image, display\n",
    "\n",
    "\n",
    "def download_and_save_image(file_id: str, save_path: str) -> None:\n",
    "    download_url = f\"https://api.openai.com/v1/files/{file_id}/content\"\n",
    "    response = requests.get(\n",
    "        download_url, headers={\"Authorization\": f\"Bearer {OPENAI_API_KEY}\"}\n",
    "    )\n",
    "    if response.status_code == 200:\n",
    "        with open(save_path, \"wb\") as file:\n",
    "            file.write(response.content)\n",
    "    else:\n",
    "        print(f\"Image downloading failed: Status Code {response.status_code}\")\n",
    "\n",
    "\n",
    "for message in response_messages.data:\n",
    "    print(\"*************\")\n",
    "    for content in message.content:\n",
    "        role_label = \"User\" if message.role == \"user\" else \"Assistant\"\n",
    "        if content.type == \"text\":\n",
    "            message_content = content.text.value\n",
    "            print(f\"{role_label}: {message_content}\\n\")\n",
    "        elif content.type == \"image_file\":\n",
    "            image_file_id = content.image_file.file_id\n",
    "            image_save_path = f\"output_images/image_{image_file_id}.png\"\n",
    "            download_and_save_image(image_file_id, image_save_path)\n",
    "            display(Image(filename=image_save_path))"
   ]
  }
 ],
 "metadata": {
  "kernelspec": {
   "display_name": "p-learning",
   "language": "python",
   "name": "python3"
  },
  "language_info": {
   "codemirror_mode": {
    "name": "ipython",
    "version": 3
   },
   "file_extension": ".py",
   "mimetype": "text/x-python",
   "name": "python",
   "nbconvert_exporter": "python",
   "pygments_lexer": "ipython3",
   "version": "3.11.5"
  }
 },
 "nbformat": 4,
 "nbformat_minor": 2
}
